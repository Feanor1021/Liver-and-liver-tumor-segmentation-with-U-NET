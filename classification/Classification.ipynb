{
 "cells": [
  {
   "cell_type": "markdown",
   "metadata": {},
   "source": [
    "# Imports"
   ]
  },
  {
   "cell_type": "code",
   "execution_count": 1,
   "metadata": {
    "executionInfo": {
     "elapsed": 6989,
     "status": "ok",
     "timestamp": 1683933460176,
     "user": {
      "displayName": "Furkan yardımcı",
      "userId": "08749112245350638250"
     },
     "user_tz": -180
    },
    "id": "doS0Tk7BBZBP"
   },
   "outputs": [],
   "source": [
    "import torchio as tio\n",
    "import matplotlib.pyplot as plt\n",
    "import numpy as np\n",
    "from pathlib import Path\n",
    "import pandas as pd\n",
    "from tqdm.notebook import tqdm\n",
    "import random"
   ]
  },
  {
   "cell_type": "code",
   "execution_count": 2,
   "metadata": {},
   "outputs": [],
   "source": [
    "import os \n",
    "os.environ['KMP_DUPLICATE_LIB_OK']='True'"
   ]
  },
  {
   "cell_type": "markdown",
   "metadata": {},
   "source": [
    "# Data Loader"
   ]
  },
  {
   "cell_type": "code",
   "execution_count": 3,
   "metadata": {
    "colab": {
     "base_uri": "https://localhost:8080/"
    },
    "executionInfo": {
     "elapsed": 13,
     "status": "ok",
     "timestamp": 1683933460176,
     "user": {
      "displayName": "Furkan yardımcı",
      "userId": "08749112245350638250"
     },
     "user_tz": -180
    },
    "id": "2l-dajUJB2wg",
    "outputId": "56103d6e-dd5a-4215-e2c3-f02c0ee686a7"
   },
   "outputs": [
    {
     "name": "stdout",
     "output_type": "stream",
     "text": [
      "Liver\\imagesTr\\liver_4.nii.gz\n",
      "Liver\\imagesTr\\liver_64.nii.gz\n",
      "Liver\\imagesTr\\liver_1.nii.gz\n",
      "Liver\\imagesTr\\liver_28.nii.gz\n",
      "Liver\\imagesTr\\liver_33.nii.gz\n",
      "Liver\\imagesTr\\liver_127.nii.gz\n",
      "Liver\\imagesTr\\liver_120.nii.gz\n",
      "Liver\\imagesTr\\liver_62.nii.gz\n",
      "Liver\\imagesTr\\liver_66.nii.gz\n",
      "Liver\\imagesTr\\liver_89.nii.gz\n",
      "Liver\\imagesTr\\liver_104.nii.gz\n",
      "Liver\\imagesTr\\liver_24.nii.gz\n",
      "Liver\\imagesTr\\liver_82.nii.gz\n",
      "Liver\\imagesTr\\liver_83.nii.gz\n",
      "Liver\\imagesTr\\liver_38.nii.gz\n",
      "Liver\\imagesTr\\liver_102.nii.gz\n",
      "Liver\\imagesTr\\liver_126.nii.gz\n",
      "Liver\\imagesTr\\liver_75.nii.gz\n",
      "Liver\\imagesTr\\liver_29.nii.gz\n",
      "Liver\\imagesTr\\liver_69.nii.gz\n",
      "Liver\\imagesTr\\liver_52.nii.gz\n",
      "Liver\\imagesTr\\liver_73.nii.gz\n",
      "Liver\\imagesTr\\liver_43.nii.gz\n",
      "Liver\\imagesTr\\liver_68.nii.gz\n",
      "Liver\\imagesTr\\liver_19.nii.gz\n",
      "Liver\\imagesTr\\liver_63.nii.gz\n",
      "Liver\\imagesTr\\liver_87.nii.gz\n",
      "Liver\\imagesTr\\liver_58.nii.gz\n",
      "Liver\\imagesTr\\liver_128.nii.gz\n",
      "Liver\\imagesTr\\liver_78.nii.gz\n",
      "Liver\\imagesTr\\liver_35.nii.gz\n",
      "Liver\\imagesTr\\liver_113.nii.gz\n",
      "Liver\\imagesTr\\liver_42.nii.gz\n",
      "Liver\\imagesTr\\liver_8.nii.gz\n",
      "Liver\\imagesTr\\liver_3.nii.gz\n",
      "Liver\\imagesTr\\liver_36.nii.gz\n",
      "Liver\\imagesTr\\liver_7.nii.gz\n",
      "Liver\\imagesTr\\liver_108.nii.gz\n",
      "Liver\\imagesTr\\liver_110.nii.gz\n",
      "Liver\\imagesTr\\liver_6.nii.gz\n",
      "Liver\\imagesTr\\liver_34.nii.gz\n",
      "Liver\\imagesTr\\liver_18.nii.gz\n",
      "Liver\\imagesTr\\liver_20.nii.gz\n",
      "Liver\\imagesTr\\liver_54.nii.gz\n",
      "Liver\\imagesTr\\liver_119.nii.gz\n",
      "Liver\\imagesTr\\liver_101.nii.gz\n",
      "Liver\\imagesTr\\liver_49.nii.gz\n",
      "Liver\\imagesTr\\liver_0.nii.gz\n",
      "Liver\\imagesTr\\liver_45.nii.gz\n",
      "Liver\\imagesTr\\liver_79.nii.gz\n",
      "Liver\\imagesTr\\liver_10.nii.gz\n",
      "Liver\\imagesTr\\liver_17.nii.gz\n",
      "Liver\\imagesTr\\liver_111.nii.gz\n",
      "Liver\\imagesTr\\liver_71.nii.gz\n",
      "Liver\\imagesTr\\liver_116.nii.gz\n",
      "Liver\\imagesTr\\liver_37.nii.gz\n",
      "Liver\\imagesTr\\liver_21.nii.gz\n",
      "Liver\\imagesTr\\liver_39.nii.gz\n",
      "Liver\\imagesTr\\liver_107.nii.gz\n",
      "Liver\\imagesTr\\liver_25.nii.gz\n",
      "Liver\\imagesTr\\liver_122.nii.gz\n",
      "Liver\\imagesTr\\liver_50.nii.gz\n",
      "Liver\\imagesTr\\liver_80.nii.gz\n",
      "Liver\\imagesTr\\liver_105.nii.gz\n",
      "Liver\\imagesTr\\liver_129.nii.gz\n",
      "Liver\\imagesTr\\liver_12.nii.gz\n",
      "Liver\\imagesTr\\liver_46.nii.gz\n",
      "Liver\\imagesTr\\liver_94.nii.gz\n",
      "Liver\\imagesTr\\liver_32.nii.gz\n",
      "Liver\\imagesTr\\liver_13.nii.gz\n",
      "Liver\\imagesTr\\liver_112.nii.gz\n",
      "Liver\\imagesTr\\liver_88.nii.gz\n",
      "Liver\\imagesTr\\liver_118.nii.gz\n",
      "Liver\\imagesTr\\liver_123.nii.gz\n",
      "Liver\\imagesTr\\liver_95.nii.gz\n",
      "Liver\\imagesTr\\liver_115.nii.gz\n",
      "Liver\\imagesTr\\liver_77.nii.gz\n",
      "Liver\\imagesTr\\liver_5.nii.gz\n",
      "Liver\\imagesTr\\liver_56.nii.gz\n",
      "Liver\\imagesTr\\liver_109.nii.gz\n",
      "Liver\\imagesTr\\liver_59.nii.gz\n",
      "Liver\\imagesTr\\liver_98.nii.gz\n",
      "Liver\\imagesTr\\liver_57.nii.gz\n",
      "Liver\\imagesTr\\liver_9.nii.gz\n",
      "Liver\\imagesTr\\liver_99.nii.gz\n",
      "Liver\\imagesTr\\liver_76.nii.gz\n",
      "Liver\\imagesTr\\liver_125.nii.gz\n",
      "Liver\\imagesTr\\liver_47.nii.gz\n",
      "Liver\\imagesTr\\liver_91.nii.gz\n",
      "Liver\\imagesTr\\liver_14.nii.gz\n",
      "Liver\\imagesTr\\liver_117.nii.gz\n",
      "Liver\\imagesTr\\liver_26.nii.gz\n",
      "Liver\\imagesTr\\liver_31.nii.gz\n",
      "Liver\\imagesTr\\liver_93.nii.gz\n",
      "Liver\\imagesTr\\liver_74.nii.gz\n",
      "Liver\\imagesTr\\liver_30.nii.gz\n",
      "Liver\\imagesTr\\liver_15.nii.gz\n",
      "Liver\\imagesTr\\liver_53.nii.gz\n",
      "Liver\\imagesTr\\liver_16.nii.gz\n",
      "Liver\\imagesTr\\liver_114.nii.gz\n",
      "Liver\\imagesTr\\liver_41.nii.gz\n",
      "Liver\\imagesTr\\liver_51.nii.gz\n",
      "Liver\\imagesTr\\liver_106.nii.gz\n",
      "Liver\\imagesTr\\liver_40.nii.gz\n",
      "Liver\\imagesTr\\liver_67.nii.gz\n",
      "Liver\\imagesTr\\liver_55.nii.gz\n",
      "Liver\\imagesTr\\liver_84.nii.gz\n",
      "Liver\\imagesTr\\liver_65.nii.gz\n",
      "Liver\\imagesTr\\liver_81.nii.gz\n",
      "Liver\\imagesTr\\liver_72.nii.gz\n",
      "Liver\\imagesTr\\liver_44.nii.gz\n",
      "Liver\\imagesTr\\liver_48.nii.gz\n",
      "Liver\\imagesTr\\liver_121.nii.gz\n",
      "Liver\\imagesTr\\liver_90.nii.gz\n",
      "Liver\\imagesTr\\liver_92.nii.gz\n",
      "Liver\\imagesTr\\liver_11.nii.gz\n",
      "Liver\\imagesTr\\liver_22.nii.gz\n",
      "Liver\\imagesTr\\liver_2.nii.gz\n",
      "Liver\\imagesTr\\liver_70.nii.gz\n",
      "Liver\\imagesTr\\liver_61.nii.gz\n",
      "Liver\\imagesTr\\liver_60.nii.gz\n",
      "Liver\\imagesTr\\liver_27.nii.gz\n",
      "Liver\\imagesTr\\liver_23.nii.gz\n"
     ]
    }
   ],
   "source": [
    "root = Path(\"./Liver/imagesTr/\")\n",
    "sample_path = list(root.glob(\"liver*\"))\n",
    "random.seed(452)\n",
    "random.shuffle(sample_path)\n",
    "for i in sample_path:\n",
    "    print(i)"
   ]
  },
  {
   "cell_type": "code",
   "execution_count": 4,
   "metadata": {},
   "outputs": [],
   "source": [
    "def find_last_number_in_string(text):\n",
    "    last_number = \"\"\n",
    "    found_number = False\n",
    "\n",
    "    for char in reversed(text):\n",
    "        if char.isdigit():\n",
    "            last_number = char + last_number\n",
    "            found_number = True\n",
    "        elif found_number:\n",
    "            break\n",
    "\n",
    "    if found_number:\n",
    "        return int(last_number)\n",
    "    else:\n",
    "        return None\n"
   ]
  },
  {
   "cell_type": "code",
   "execution_count": 5,
   "metadata": {},
   "outputs": [],
   "source": [
    "csv = pd.read_csv(\"./Book1.csv\")\n",
    "\n",
    "def find_index_by_hasta_num(dataframe, target_hasta_num):\n",
    "    filtered_df = dataframe[dataframe['hasta_num'] == target_hasta_num]\n",
    "    if not filtered_df.empty:\n",
    "        return filtered_df.index[0]\n",
    "    else:\n",
    "        return None"
   ]
  },
  {
   "cell_type": "code",
   "execution_count": 6,
   "metadata": {},
   "outputs": [
    {
     "data": {
      "application/vnd.jupyter.widget-view+json": {
       "model_id": "cd9f5add06b542a48823778118a2a25e",
       "version_major": 2,
       "version_minor": 0
      },
      "text/plain": [
       "  0%|          | 0/123 [00:00<?, ?it/s]"
      ]
     },
     "metadata": {},
     "output_type": "display_data"
    }
   ],
   "source": [
    "y = []\n",
    "\n",
    "for i in tqdm(range(123)):\n",
    "    y.append(csv[\"tumor_durum\"][find_index_by_hasta_num(csv,find_last_number_in_string(str(sample_path[i])))])"
   ]
  },
  {
   "cell_type": "code",
   "execution_count": 7,
   "metadata": {},
   "outputs": [
    {
     "name": "stdout",
     "output_type": "stream",
     "text": [
      "Liver\\imagesTr\\liver_4.nii.gz   1\n",
      "Liver\\imagesTr\\liver_64.nii.gz   1\n",
      "Liver\\imagesTr\\liver_1.nii.gz   0\n",
      "Liver\\imagesTr\\liver_28.nii.gz   1\n",
      "Liver\\imagesTr\\liver_33.nii.gz   1\n",
      "Liver\\imagesTr\\liver_127.nii.gz   0\n",
      "Liver\\imagesTr\\liver_120.nii.gz   0\n",
      "Liver\\imagesTr\\liver_62.nii.gz   0\n",
      "Liver\\imagesTr\\liver_66.nii.gz   0\n",
      "Liver\\imagesTr\\liver_89.nii.gz   0\n",
      "Liver\\imagesTr\\liver_104.nii.gz   1\n",
      "Liver\\imagesTr\\liver_24.nii.gz   0\n",
      "Liver\\imagesTr\\liver_82.nii.gz   1\n",
      "Liver\\imagesTr\\liver_83.nii.gz   0\n",
      "Liver\\imagesTr\\liver_38.nii.gz   0\n",
      "Liver\\imagesTr\\liver_102.nii.gz   0\n",
      "Liver\\imagesTr\\liver_126.nii.gz   0\n",
      "Liver\\imagesTr\\liver_75.nii.gz   0\n",
      "Liver\\imagesTr\\liver_29.nii.gz   0\n",
      "Liver\\imagesTr\\liver_69.nii.gz   0\n",
      "Liver\\imagesTr\\liver_52.nii.gz   0\n",
      "Liver\\imagesTr\\liver_73.nii.gz   0\n",
      "Liver\\imagesTr\\liver_43.nii.gz   0\n",
      "Liver\\imagesTr\\liver_68.nii.gz   0\n",
      "Liver\\imagesTr\\liver_19.nii.gz   0\n",
      "Liver\\imagesTr\\liver_63.nii.gz   0\n",
      "Liver\\imagesTr\\liver_87.nii.gz   0\n",
      "Liver\\imagesTr\\liver_58.nii.gz   0\n",
      "Liver\\imagesTr\\liver_128.nii.gz   1\n",
      "Liver\\imagesTr\\liver_78.nii.gz   0\n",
      "Liver\\imagesTr\\liver_35.nii.gz   0\n",
      "Liver\\imagesTr\\liver_113.nii.gz   0\n",
      "Liver\\imagesTr\\liver_42.nii.gz   0\n",
      "Liver\\imagesTr\\liver_8.nii.gz   0\n",
      "Liver\\imagesTr\\liver_3.nii.gz   0\n",
      "Liver\\imagesTr\\liver_36.nii.gz   1\n",
      "Liver\\imagesTr\\liver_7.nii.gz   0\n",
      "Liver\\imagesTr\\liver_108.nii.gz   1\n",
      "Liver\\imagesTr\\liver_110.nii.gz   0\n",
      "Liver\\imagesTr\\liver_6.nii.gz   0\n",
      "Liver\\imagesTr\\liver_34.nii.gz   0\n",
      "Liver\\imagesTr\\liver_18.nii.gz   0\n",
      "Liver\\imagesTr\\liver_20.nii.gz   0\n",
      "Liver\\imagesTr\\liver_54.nii.gz   0\n",
      "Liver\\imagesTr\\liver_119.nii.gz   0\n",
      "Liver\\imagesTr\\liver_101.nii.gz   1\n",
      "Liver\\imagesTr\\liver_49.nii.gz   0\n",
      "Liver\\imagesTr\\liver_0.nii.gz   0\n",
      "Liver\\imagesTr\\liver_45.nii.gz   0\n",
      "Liver\\imagesTr\\liver_79.nii.gz   0\n",
      "Liver\\imagesTr\\liver_10.nii.gz   0\n",
      "Liver\\imagesTr\\liver_17.nii.gz   0\n",
      "Liver\\imagesTr\\liver_111.nii.gz   0\n",
      "Liver\\imagesTr\\liver_71.nii.gz   1\n",
      "Liver\\imagesTr\\liver_116.nii.gz   1\n",
      "Liver\\imagesTr\\liver_37.nii.gz   0\n",
      "Liver\\imagesTr\\liver_21.nii.gz   0\n",
      "Liver\\imagesTr\\liver_39.nii.gz   1\n",
      "Liver\\imagesTr\\liver_107.nii.gz   0\n",
      "Liver\\imagesTr\\liver_25.nii.gz   0\n",
      "Liver\\imagesTr\\liver_122.nii.gz   0\n",
      "Liver\\imagesTr\\liver_50.nii.gz   0\n",
      "Liver\\imagesTr\\liver_80.nii.gz   1\n",
      "Liver\\imagesTr\\liver_105.nii.gz   0\n",
      "Liver\\imagesTr\\liver_129.nii.gz   1\n",
      "Liver\\imagesTr\\liver_12.nii.gz   0\n",
      "Liver\\imagesTr\\liver_46.nii.gz   1\n",
      "Liver\\imagesTr\\liver_94.nii.gz   0\n",
      "Liver\\imagesTr\\liver_32.nii.gz   0\n",
      "Liver\\imagesTr\\liver_13.nii.gz   0\n",
      "Liver\\imagesTr\\liver_112.nii.gz   0\n",
      "Liver\\imagesTr\\liver_88.nii.gz   1\n",
      "Liver\\imagesTr\\liver_118.nii.gz   1\n",
      "Liver\\imagesTr\\liver_123.nii.gz   1\n",
      "Liver\\imagesTr\\liver_95.nii.gz   0\n",
      "Liver\\imagesTr\\liver_115.nii.gz   0\n",
      "Liver\\imagesTr\\liver_77.nii.gz   0\n",
      "Liver\\imagesTr\\liver_5.nii.gz   0\n",
      "Liver\\imagesTr\\liver_56.nii.gz   1\n",
      "Liver\\imagesTr\\liver_109.nii.gz   0\n",
      "Liver\\imagesTr\\liver_59.nii.gz   0\n",
      "Liver\\imagesTr\\liver_98.nii.gz   1\n",
      "Liver\\imagesTr\\liver_57.nii.gz   0\n",
      "Liver\\imagesTr\\liver_9.nii.gz   0\n",
      "Liver\\imagesTr\\liver_99.nii.gz   0\n",
      "Liver\\imagesTr\\liver_76.nii.gz   1\n",
      "Liver\\imagesTr\\liver_125.nii.gz   0\n",
      "Liver\\imagesTr\\liver_47.nii.gz   0\n",
      "Liver\\imagesTr\\liver_91.nii.gz   0\n",
      "Liver\\imagesTr\\liver_14.nii.gz   0\n",
      "Liver\\imagesTr\\liver_117.nii.gz   1\n",
      "Liver\\imagesTr\\liver_26.nii.gz   0\n",
      "Liver\\imagesTr\\liver_31.nii.gz   0\n",
      "Liver\\imagesTr\\liver_93.nii.gz   1\n",
      "Liver\\imagesTr\\liver_74.nii.gz   1\n",
      "Liver\\imagesTr\\liver_30.nii.gz   0\n",
      "Liver\\imagesTr\\liver_15.nii.gz   0\n",
      "Liver\\imagesTr\\liver_53.nii.gz   0\n",
      "Liver\\imagesTr\\liver_16.nii.gz   1\n",
      "Liver\\imagesTr\\liver_114.nii.gz   0\n",
      "Liver\\imagesTr\\liver_41.nii.gz   0\n",
      "Liver\\imagesTr\\liver_51.nii.gz   1\n",
      "Liver\\imagesTr\\liver_106.nii.gz   0\n",
      "Liver\\imagesTr\\liver_40.nii.gz   1\n",
      "Liver\\imagesTr\\liver_67.nii.gz   0\n",
      "Liver\\imagesTr\\liver_55.nii.gz   0\n",
      "Liver\\imagesTr\\liver_84.nii.gz   1\n",
      "Liver\\imagesTr\\liver_65.nii.gz   0\n",
      "Liver\\imagesTr\\liver_81.nii.gz   0\n",
      "Liver\\imagesTr\\liver_72.nii.gz   0\n",
      "Liver\\imagesTr\\liver_44.nii.gz   1\n",
      "Liver\\imagesTr\\liver_48.nii.gz   0\n",
      "Liver\\imagesTr\\liver_121.nii.gz   0\n",
      "Liver\\imagesTr\\liver_90.nii.gz   1\n",
      "Liver\\imagesTr\\liver_92.nii.gz   0\n",
      "Liver\\imagesTr\\liver_11.nii.gz   0\n",
      "Liver\\imagesTr\\liver_22.nii.gz   0\n",
      "Liver\\imagesTr\\liver_2.nii.gz   0\n",
      "Liver\\imagesTr\\liver_70.nii.gz   1\n",
      "Liver\\imagesTr\\liver_61.nii.gz   0\n",
      "Liver\\imagesTr\\liver_60.nii.gz   0\n",
      "Liver\\imagesTr\\liver_27.nii.gz   0\n",
      "Liver\\imagesTr\\liver_23.nii.gz   0\n"
     ]
    }
   ],
   "source": [
    "j = 0\n",
    "for i in sample_path:\n",
    "    print(str(i) + \"   \" + str(y[j]))\n",
    "    j+=1"
   ]
  },
  {
   "cell_type": "code",
   "execution_count": 8,
   "metadata": {
    "executionInfo": {
     "elapsed": 12,
     "status": "ok",
     "timestamp": 1683933460177,
     "user": {
      "displayName": "Furkan yardımcı",
      "userId": "08749112245350638250"
     },
     "user_tz": -180
    },
    "id": "hM8n2G1oCddG"
   },
   "outputs": [],
   "source": [
    "Train = tio.Compose([\n",
    "            tio.CropOrPad((256, 256, 70)),\n",
    "            tio.RescaleIntensity((-1, 1)),\n",
    "            ])\n",
    "\n",
    "Test = tio.Compose([\n",
    "            tio.CropOrPad((256, 256, 70)),\n",
    "            tio.RescaleIntensity((-1, 1)),\n",
    "            ])"
   ]
  },
  {
   "cell_type": "markdown",
   "metadata": {},
   "source": [
    "# Test and Train Split"
   ]
  },
  {
   "cell_type": "code",
   "execution_count": 9,
   "metadata": {
    "id": "TK-S-sqWDd4A"
   },
   "outputs": [
    {
     "data": {
      "application/vnd.jupyter.widget-view+json": {
       "model_id": "8e61ef37f01345adae88e6200e3ff894",
       "version_major": 2,
       "version_minor": 0
      },
      "text/plain": [
       "  0%|          | 0/123 [00:00<?, ?it/s]"
      ]
     },
     "metadata": {},
     "output_type": "display_data"
    }
   ],
   "source": [
    "X1 = []\n",
    "X2 = []\n",
    "y_train = []\n",
    "y_test = []\n",
    "j = 0\n",
    "\n",
    "for i in tqdm(sample_path):\n",
    "    if (j < 25):\n",
    "        tio_image = tio.ScalarImage(i)\n",
    "        processed_image = Test(tio_image)\n",
    "        np_processed_image = np.array(processed_image)\n",
    "        X1.append(np_processed_image[0].reshape(-1))\n",
    "        j+=1\n",
    "    else:\n",
    "        tio_image = tio.ScalarImage(i)\n",
    "        processed_image = Train(tio_image)\n",
    "        np_processed_image = np.array(processed_image)\n",
    "        X2.append(np_processed_image[0].reshape(-1))\n",
    "        j+=1\n",
    "\n",
    "X_test = np.array(X1)\n",
    "X_train = np.array(X2)\n",
    "y_test, y_train = np.split(y, [25])\n",
    "del X1, X2, j"
   ]
  },
  {
   "cell_type": "code",
   "execution_count": 10,
   "metadata": {
    "id": "wEDsbObFJMpR"
   },
   "outputs": [
    {
     "name": "stdout",
     "output_type": "stream",
     "text": [
      "(25, 4587520) (98, 4587520)\n"
     ]
    }
   ],
   "source": [
    "print(X_test.shape, X_train.shape)"
   ]
  },
  {
   "cell_type": "markdown",
   "metadata": {},
   "source": [
    "# Over Sampling"
   ]
  },
  {
   "cell_type": "code",
   "execution_count": 11,
   "metadata": {},
   "outputs": [
    {
     "name": "stdout",
     "output_type": "stream",
     "text": [
      "(144, 4587520)\n"
     ]
    }
   ],
   "source": [
    "from imblearn.over_sampling import RandomOverSampler\n",
    "\n",
    "# Oversample the minority class\n",
    "ros = RandomOverSampler(random_state=0)\n",
    "X_train, y_train = ros.fit_resample(X_train, y_train)\n",
    "print(X_train.shape)"
   ]
  },
  {
   "cell_type": "markdown",
   "metadata": {},
   "source": [
    "# PCA"
   ]
  },
  {
   "cell_type": "code",
   "execution_count": 12,
   "metadata": {},
   "outputs": [
    {
     "name": "stdout",
     "output_type": "stream",
     "text": [
      "(144, 52) (25, 52)\n"
     ]
    }
   ],
   "source": [
    "from sklearn.decomposition import PCA\n",
    "\n",
    "pca = PCA(.95)\n",
    "pca_train = pca.fit_transform(X_train)\n",
    "pca_test = pca.transform(X_test)\n",
    "print(pca_train.shape, pca_test.shape)"
   ]
  },
  {
   "cell_type": "markdown",
   "metadata": {},
   "source": [
    "# Train"
   ]
  },
  {
   "cell_type": "code",
   "execution_count": 13,
   "metadata": {},
   "outputs": [],
   "source": [
    "from sklearn.linear_model import LogisticRegression\n",
    "from sklearn.neighbors import KNeighborsClassifier\n",
    "from sklearn.svm import LinearSVC, SVC\n",
    "from sklearn.naive_bayes import GaussianNB\n",
    "from sklearn.tree import DecisionTreeClassifier\n",
    "from sklearn.ensemble import RandomForestClassifier\n",
    "\n",
    "from sklearn.model_selection import GridSearchCV\n",
    "\n",
    "def models(x, y):\n",
    "    # Training of the Logistic Regression model\n",
    "    log = LogisticRegression(solver='liblinear', penalty='l1',C= 1291.5496650148827, max_iter=1000, random_state=42)\n",
    "    log.fit(x, y)\n",
    "    \n",
    "    # Training of the KNN model\n",
    "    knn = KNeighborsClassifier(n_neighbors = 5, metric = \"minkowski\", p = 2)\n",
    "    knn.fit(x, y)\n",
    "    \n",
    "    # Training of the Linear SVM model\n",
    "    svm1 = LinearSVC(random_state = 42)\n",
    "    svm1.fit(x, y)\n",
    "    \n",
    "    # Training of the RBF Kernel SVM model\n",
    "    kernel_svm = SVC(max_iter=1000,kernel = \"rbf\", random_state = 42, C = 0.1)\n",
    "    kernel_svm.fit(x, y)\n",
    "    \n",
    "    # Training of the Naive Bayes\n",
    "    naive = GaussianNB()\n",
    "    naive.fit(x, y)\n",
    "    \n",
    "    # Training of the Decision Tree model\n",
    "    dtree = DecisionTreeClassifier(criterion = \"gini\", random_state = 42)\n",
    "    dtree.fit(x, y)\n",
    "    \n",
    "    # Training of the Random Forest model\n",
    "    rforest = RandomForestClassifier(max_depth=70, min_samples_split=4, min_samples_leaf=3, \n",
    "                                    n_estimators = 1000, criterion = \"gini\" ,max_features='sqrt',random_state = 42)\n",
    "    rforest.fit(x, y)\n",
    "    \n",
    "    print('[0]Logistic Regression Training Accuracy:', log.score(x, y))\n",
    "    print('[1]K Nearest Neighbor Training Accuracy:', knn.score(x, y))\n",
    "    print('[2]Support Vector Machine (Linear Classifier) Training Accuracy:', svm1.score(x, y))\n",
    "    print('[3]Support Vector Machine (RBF Classifier) Training Accuracy:', kernel_svm.score(x, y))\n",
    "    print('[4]Gaussian Naive Bayes Training Accuracy:', naive.score(x, y))\n",
    "    print('[5]Decision Tree Classifier Training Accuracy:', dtree.score(x, y))\n",
    "    print('[6]Random Forest Classifier Training Accuracy:', rforest.score(x, y))\n",
    "    \n",
    "    return log, knn, svm1, kernel_svm, naive, dtree, rforest"
   ]
  },
  {
   "cell_type": "code",
   "execution_count": 14,
   "metadata": {},
   "outputs": [
    {
     "name": "stderr",
     "output_type": "stream",
     "text": [
      "C:\\Users\\furka\\anaconda3\\lib\\site-packages\\sklearn\\svm\\_base.py:1244: ConvergenceWarning: Liblinear failed to converge, increase the number of iterations.\n",
      "  warnings.warn(\n"
     ]
    },
    {
     "name": "stdout",
     "output_type": "stream",
     "text": [
      "[0]Logistic Regression Training Accuracy: 1.0\n",
      "[1]K Nearest Neighbor Training Accuracy: 0.8333333333333334\n",
      "[2]Support Vector Machine (Linear Classifier) Training Accuracy: 1.0\n",
      "[3]Support Vector Machine (RBF Classifier) Training Accuracy: 0.7847222222222222\n",
      "[4]Gaussian Naive Bayes Training Accuracy: 0.8888888888888888\n",
      "[5]Decision Tree Classifier Training Accuracy: 1.0\n",
      "[6]Random Forest Classifier Training Accuracy: 1.0\n"
     ]
    }
   ],
   "source": [
    "from sklearn.metrics import confusion_matrix, accuracy_score, precision_score, recall_score\n",
    "\n",
    "model = models(pca_train, y_train)"
   ]
  },
  {
   "cell_type": "markdown",
   "metadata": {},
   "source": [
    "# Evaluation"
   ]
  },
  {
   "cell_type": "code",
   "execution_count": 15,
   "metadata": {},
   "outputs": [
    {
     "data": {
      "application/vnd.jupyter.widget-view+json": {
       "model_id": "ea763dfac5dc46eab0072bd17eb677d1",
       "version_major": 2,
       "version_minor": 0
      },
      "text/plain": [
       "  0%|          | 0/7 [00:00<?, ?it/s]"
      ]
     },
     "metadata": {},
     "output_type": "display_data"
    },
    {
     "name": "stdout",
     "output_type": "stream",
     "text": [
      "[[72  0]\n",
      " [ 0 72]]\n",
      "Model[0] Training Accuracy 1.0\n",
      "Model[0] Training Precision 1.0\n",
      "Model[0] Training Recall 1.0\n",
      "\n",
      "[[62 10]\n",
      " [14 58]]\n",
      "Model[1] Training Accuracy 0.8333333333333334\n",
      "Model[1] Training Precision 0.8529411764705882\n",
      "Model[1] Training Recall 0.8055555555555556\n",
      "\n",
      "[[72  0]\n",
      " [ 0 72]]\n",
      "Model[2] Training Accuracy 1.0\n",
      "Model[2] Training Precision 1.0\n",
      "Model[2] Training Recall 1.0\n",
      "\n",
      "[[60 12]\n",
      " [19 53]]\n",
      "Model[3] Training Accuracy 0.7847222222222222\n",
      "Model[3] Training Precision 0.8153846153846154\n",
      "Model[3] Training Recall 0.7361111111111112\n",
      "\n",
      "[[66  6]\n",
      " [10 62]]\n",
      "Model[4] Training Accuracy 0.8888888888888888\n",
      "Model[4] Training Precision 0.9117647058823529\n",
      "Model[4] Training Recall 0.8611111111111112\n",
      "\n",
      "[[72  0]\n",
      " [ 0 72]]\n",
      "Model[5] Training Accuracy 1.0\n",
      "Model[5] Training Precision 1.0\n",
      "Model[5] Training Recall 1.0\n",
      "\n",
      "[[72  0]\n",
      " [ 0 72]]\n",
      "Model[6] Training Accuracy 1.0\n",
      "Model[6] Training Precision 1.0\n",
      "Model[6] Training Recall 1.0\n",
      "\n"
     ]
    }
   ],
   "source": [
    "for i in tqdm(range(len(model))):\n",
    "    print(confusion_matrix(y_train, model[i].predict(pca_train)))\n",
    "    print(\"Model[{}] Training Accuracy\".format(i),accuracy_score(y_train, model[i].predict(pca_train)))\n",
    "    print(\"Model[{}] Training Precision\".format(i),precision_score(y_train, model[i].predict(pca_train)))\n",
    "    print(\"Model[{}] Training Recall\".format(i),recall_score(y_train, model[i].predict(pca_train)))  \n",
    "    print()"
   ]
  },
  {
   "cell_type": "code",
   "execution_count": 16,
   "metadata": {
    "scrolled": false
   },
   "outputs": [
    {
     "data": {
      "application/vnd.jupyter.widget-view+json": {
       "model_id": "0e7ae91d18364d0b972234df2b55f350",
       "version_major": 2,
       "version_minor": 0
      },
      "text/plain": [
       "  0%|          | 0/7 [00:00<?, ?it/s]"
      ]
     },
     "metadata": {},
     "output_type": "display_data"
    },
    {
     "name": "stdout",
     "output_type": "stream",
     "text": [
      "[[ 3 16]\n",
      " [ 1  5]]\n",
      "Model[0] Testing Accuracy 0.32\n",
      "Model[0] Testing Precision 0.23809523809523808\n",
      "Model[0] Testing Recall 0.8333333333333334\n",
      "\n",
      "[[11  8]\n",
      " [ 2  4]]\n",
      "Model[1] Testing Accuracy 0.6\n",
      "Model[1] Testing Precision 0.3333333333333333\n",
      "Model[1] Testing Recall 0.6666666666666666\n",
      "\n",
      "[[ 1 18]\n",
      " [ 0  6]]\n",
      "Model[2] Testing Accuracy 0.28\n",
      "Model[2] Testing Precision 0.25\n",
      "Model[2] Testing Recall 1.0\n",
      "\n",
      "[[11  8]\n",
      " [ 3  3]]\n",
      "Model[3] Testing Accuracy 0.56\n",
      "Model[3] Testing Precision 0.2727272727272727\n",
      "Model[3] Testing Recall 0.5\n",
      "\n",
      "[[ 0 19]\n",
      " [ 0  6]]\n",
      "Model[4] Testing Accuracy 0.24\n",
      "Model[4] Testing Precision 0.24\n",
      "Model[4] Testing Recall 1.0\n",
      "\n",
      "[[ 7 12]\n",
      " [ 2  4]]\n",
      "Model[5] Testing Accuracy 0.44\n",
      "Model[5] Testing Precision 0.25\n",
      "Model[5] Testing Recall 0.6666666666666666\n",
      "\n",
      "[[ 7 12]\n",
      " [ 2  4]]\n",
      "Model[6] Testing Accuracy 0.44\n",
      "Model[6] Testing Precision 0.25\n",
      "Model[6] Testing Recall 0.6666666666666666\n",
      "\n"
     ]
    }
   ],
   "source": [
    "for i in tqdm(range(len(model))):\n",
    "    print(confusion_matrix(y_test, model[i].predict(pca_test)))\n",
    "    print(\"Model[{}] Testing Accuracy\".format(i),accuracy_score(y_test, model[i].predict(pca_test)))\n",
    "    print(\"Model[{}] Testing Precision\".format(i),precision_score(y_test, model[i].predict(pca_test)))\n",
    "    print(\"Model[{}] Testing Recall\".format(i),recall_score(y_test, model[i].predict(pca_test)))      \n",
    "    print()"
   ]
  }
 ],
 "metadata": {
  "colab": {
   "authorship_tag": "ABX9TyNqaoTpczkeCKfdzNCi7EYQ",
   "provenance": []
  },
  "kernelspec": {
   "display_name": "Python 3 (ipykernel)",
   "language": "python",
   "name": "python3"
  },
  "language_info": {
   "codemirror_mode": {
    "name": "ipython",
    "version": 3
   },
   "file_extension": ".py",
   "mimetype": "text/x-python",
   "name": "python",
   "nbconvert_exporter": "python",
   "pygments_lexer": "ipython3",
   "version": "3.10.9"
  }
 },
 "nbformat": 4,
 "nbformat_minor": 1
}
